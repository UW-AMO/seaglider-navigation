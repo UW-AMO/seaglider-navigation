{
 "cells": [
  {
   "cell_type": "markdown",
   "metadata": {},
   "source": [
    "# Trial XX"
   ]
  },
  {
   "cell_type": "code",
   "execution_count": null,
   "metadata": {},
   "outputs": [],
   "source": [
    "import numpy as np\n",
    "\n",
    "from adcp import dataprep as dp\n",
    "from adcp import simulation as sim\n",
    "from adcp import matbuilder as mb\n",
    "from adcp import optimization as op\n",
    "from adcp import viz"
   ]
  },
  {
   "cell_type": "markdown",
   "metadata": {},
   "source": [
    "## Simulate\n",
    "Enter parameters in the call to `sim.SimParams` "
   ]
  },
  {
   "cell_type": "code",
   "execution_count": null,
   "metadata": {},
   "outputs": [],
   "source": [
    "# Simulate data\n",
    "sp = sim.SimParams(rho_t=0, rho_a=0, rho_v=0, rho_c=0, sigma_t=.4, sigma_c=.3,\n",
    "                   measure_points=dict(gps='endpoints', ttw=.5, range=.05,),\n",
    "                   curr_method='linear', vehicle_method='linear',)\n",
    "ddat, adat, x, curr_df, v_df = sim.simulate(sp, verbose=True)\n",
    "depths = dp.depthpoints(adat, ddat)\n",
    "times = dp.timepoints(adat, ddat)\n",
    "\n",
    "# # Or load existing data\n",
    "# dive_num = 1980099\n",
    "# ddat = dp.load_dive(dive_num)\n",
    "# adat = dp.load_adcp(dive_num)\n",
    "# depths = dp.depthpoints(adat, ddat)\n",
    "# times = dp.timepoints(adat, ddat)"
   ]
  },
  {
   "cell_type": "markdown",
   "metadata": {},
   "source": [
    "## Set up Optimization Problem\n",
    "Enter parameters for covariances ($\\rho$)"
   ]
  },
  {
   "cell_type": "code",
   "execution_count": null,
   "metadata": {},
   "outputs": [],
   "source": [
    "# %% No Range\n",
    "rho_v=1e-5\n",
    "rho_c=1e-5\n",
    "rho_g=1e-3\n",
    "rho_t=1e-3\n",
    "rho_a=1e-3\n",
    "rho_r=0\n",
    "print(f\"\"\"Solution method covariances:\n",
    "    vehicle process: {rho_v}\n",
    "    current process:{rho_c}\n",
    "    GPS measurement: {rho_g}\n",
    "    TTW measurement: {rho_t}\n",
    "    ADCP meawsurement: {rho_a}\"\"\")\n",
    "\n",
    "prob=op.GliderProblem(ddat, adat, rho_v=rho_v, rho_c=rho_c, rho_g=rho_g,\n",
    "                      rho_t=rho_t, rho_a=rho_a, rho_r=rho_r)"
   ]
  },
  {
   "cell_type": "markdown",
   "metadata": {},
   "source": [
    "## Solve Problem\n",
    "Enter random `seed` and `maxiter`, `maxfun` parameters in `op.solve`"
   ]
  },
  {
   "cell_type": "code",
   "execution_count": null,
   "metadata": {},
   "outputs": [],
   "source": [
    "# %%  Solve problem\n",
    "seed = 3453\n",
    "\n",
    "A, b = op.solve_mats(prob, verbose=True)\n",
    "x0 = op.init_x(prob)\n",
    "print(f'problem is of size {len(x0)}')\n",
    "x_sol, (NV, EV, NC, EC, Xs, Vs) = op.backsolve(prob)\n",
    "\n",
    "f = op.f(prob, verbose=True)\n",
    "g = op.g(prob)\n",
    "h = op.h(prob)\n",
    "sol = op.solve(prob, method='L-BFGS-B', maxiter=1, maxfun=1000000)\n",
    "print(f'LBFGS took {sol.nit} iterations and converged: {sol.success}')"
   ]
  },
  {
   "cell_type": "markdown",
   "metadata": {},
   "source": [
    "## Plotting"
   ]
  },
  {
   "cell_type": "code",
   "execution_count": null,
   "metadata": {
    "scrolled": false
   },
   "outputs": [],
   "source": [
    "# %% Plotting\n",
    "\n",
    "#viz.current_plot(sol.x, x_sol, adat, times, depths)\n",
    "ax1 = viz.vehicle_speed_plot(sol.x, ddat, times, depths, direction='both',\n",
    "                             x_sol=x_sol, x_true=x, ttw=False)\n",
    "ax2 = viz.inferred_ttw_error_plot(sol.x, adat, ddat, direction='both',\n",
    "                                  x_true=x, x_sol=x_sol)\n",
    "ax3 = viz.current_depth_plot(sol.x, adat, ddat, direction='both', x_true=x,\n",
    "                             x_sol=x_sol, adcp=False)\n",
    "ax4 = viz.inferred_adcp_error_plot(sol.x, adat, ddat, direction='both',\n",
    "                                   x_true=x, x_sol=x_sol)\n",
    "ax5 = viz.vehicle_posit_plot(sol['x'], ddat, times, depths, backsolve=x_sol,\n",
    "                              x_true=x, dead_reckon=True)\n",
    "\n",
    "#ax4 = viz.current_depth_plot(sol.x, adat, ddat, direction='both', mdat=mdat)"
   ]
  },
  {
   "cell_type": "code",
   "execution_count": null,
   "metadata": {},
   "outputs": [],
   "source": [
    "# Validation\n",
    "print(sol.message)\n",
    "\n",
    "m = len(times)\n",
    "n = len(depths)\n",
    "\n",
    "x_native = op.time_rescale(x, 1/mb.t_scale, m, n)\n",
    "back_native = op.time_rescale(x_sol, 1/mb.t_scale, m, n)\n",
    "sol_native = op.time_rescale(sol.x, 1/mb.t_scale, m, n)\n",
    "x0_native = op.time_rescale(x0, 1/mb.t_scale, m, n)\n",
    "\n",
    "print('LBFGS solution better than true value: ', f(sol_native) < f(x_native))\n",
    "print('LBFGS solution better than starting point: ', f(sol_native) < f(x0_native))\n",
    "print('LBFGS solution better than backsolve solution: ', f(sol_native) < f(back_native))\n",
    "print('LBFGS solution distance from backsolve solution (rel): ',\n",
    "      np.linalg.norm(sol_native-back_native)/np.linalg.norm(sol_native))\n",
    "print('LBFGS solution distance from starting solution (rel): ',\n",
    "      np.linalg.norm(sol_native-x0_native)/np.linalg.norm(sol_native))\n",
    "\n",
    "\n",
    "from adcp.optimization import (_f_kalman, _f_ttw, _f_adcp, _f_gps, _f_range,\n",
    "                               _g_kalman, _g_ttw, _g_adcp, _g_gps, _g_range,\n",
    "                               _h_kalman, _h_ttw, _h_adcp, _h_gps, )#_h_range)\n",
    "\n",
    "f1 = _f_kalman(prob)\n",
    "f2 = _f_ttw(prob)\n",
    "f3 = _f_adcp(prob)\n",
    "f4 = _f_gps(prob)\n",
    "f5 = _f_range(prob)\n",
    "\n",
    "g1 = _g_kalman(prob)\n",
    "g2 = _g_ttw(prob)\n",
    "g3 = _g_adcp(prob)\n",
    "g4 = _g_gps(prob)\n",
    "g5 = _g_range(prob)\n",
    "\n",
    "h1 = _h_kalman(prob)\n",
    "h2 = _h_ttw(prob)\n",
    "h3 = _h_adcp(prob)\n",
    "h4 = _h_gps(prob)\n",
    "\n",
    "\n",
    "###################################\n",
    "####### Gradient Testing ##########\n",
    "###################################\n",
    "delta = 1e-2\n",
    "_, _, eps, err = op.grad_test(x_native, delta, f, g)\n",
    "print(f\"Overall gradient test for vectors {eps:e} apart yeilds an error of {err:e}\")\n",
    "_, _, eps, err = op.grad_test(x_native, delta, f1, g1)\n",
    "print(f\"Kalman gradient test for vectors {eps:e} apart yeilds an error of {err:e}\")\n",
    "_, _, eps, err = op.grad_test(x_native, delta, f2, g2)\n",
    "print(f\"TTW measurement gradient test for vectors {eps:e} apart yeilds an error of {err:e}\")\n",
    "_, _, eps, err = op.grad_test(x_native, delta, f3, g3)\n",
    "print(f\"ADCP measurement gradient test for vectors {eps:e} apart yeilds an error of {err:e}\")\n",
    "_, _, eps, err = op.grad_test(x_native, delta, f4, g4)\n",
    "print(f\"GPS measurement gradient test for vectors {eps:e} apart yeilds an error of {err:e}\")\n",
    "#_, _, eps, err = op.grad_test(x_native, delta, f5, g5)\n",
    "#print(f\"Range measurement gradient test for vectors {eps:e} apart yeilds an error of {err:e}\")\n",
    "\n",
    "_, _, eps, err = op.complex_step_test(x_native, delta, f, g)\n",
    "print(f\"Overall complex step test for gradient of norm {eps:e} yeilds an error of {err:e}\")\n",
    "_, _, eps, err = op.complex_step_test(x_native, delta, f1, g1)\n",
    "print(f\"Kalman complex step test for gradient of norm {eps:e} yeilds an error of {err:e}\")\n",
    "_, _, eps, err = op.complex_step_test(x_native, delta, f2, g2)\n",
    "print(f\"TTW measurement complex step test for gradient of norm {eps:e} yeilds an error of {err:e}\")\n",
    "_, _, eps, err = op.complex_step_test(x_native, delta, f3, g3)\n",
    "print(f\"ADCP measurement complex step test for gradient of norm {eps:e} yeilds an error of {err:e}\")\n",
    "_, _, eps, err = op.complex_step_test(x_native, delta, f4, g4)\n",
    "print(f\"GPS measurement complex step test for gradient of norm {eps:e} yeilds an error of {err:e}\")\n",
    "#_, _, eps, err = op.complex_step_test(x_native, delta, f5, g5)\n",
    "#print(f\"Range measurement complex step test for gradient of norm {eps:e} yeilds an error of {err:e}\")\n",
    "\n",
    "_, _, eps, err = op.hess_test(x_native, delta, g, h)\n",
    "print(f\"Overall hessian test for vectors {eps:e} apart yeilds an error of {err:e}\")\n",
    "_, _, eps, err = op.hess_test(x_native, delta, g1, h1)\n",
    "print(f\"Kalman hessian test for vectors {eps:e} apart yeilds an error of {err:e}\")\n",
    "_, _, eps, err = op.hess_test(x_native, delta, g2, h2)\n",
    "print(f\"TTW measurement hessian test for vectors {eps:e} apart yeilds an error of {err:e}\")\n",
    "_, _, eps, err = op.hess_test(x_native, delta, g3, h3)\n",
    "print(f\"ADCP measurement hessian test for vectors {eps:e} apart yeilds an error of {err:e}\")\n",
    "_, _, eps, err = op.hess_test(x_native, delta, g4, h4)\n",
    "print(f\"GPS measurement hessian test for vectors {eps:e} apart yeilds an error of {err:e}\")\n",
    "_, _, eps, err = op.hess_test(x_native, delta, g4, h4)\n",
    "print(f\"GPS measurement hessian test for vectors {eps:e} apart yeilds an error of {err:e}\")\n",
    "#_, _, eps, err = op.hess_test(x_native, delta, g5, h5)\n",
    "#print(f\"Range measurement hessian test for vectors {eps:e} apart yeilds an error of {err:e}\")\n",
    "\n",
    "_, _, eps, err = op.backsolve_test(x_native, prob)\n",
    "print(f\"Backsolve test for gradient of norm {eps:e} yeilds an error of {err:e}\")\n"
   ]
  }
 ],
 "metadata": {
  "kernelspec": {
   "display_name": "ADCP",
   "language": "python",
   "name": "adcp"
  },
  "language_info": {
   "codemirror_mode": {
    "name": "ipython",
    "version": 3
   },
   "file_extension": ".py",
   "mimetype": "text/x-python",
   "name": "python",
   "nbconvert_exporter": "python",
   "pygments_lexer": "ipython3",
   "version": "3.7.8"
  }
 },
 "nbformat": 4,
 "nbformat_minor": 2
}
